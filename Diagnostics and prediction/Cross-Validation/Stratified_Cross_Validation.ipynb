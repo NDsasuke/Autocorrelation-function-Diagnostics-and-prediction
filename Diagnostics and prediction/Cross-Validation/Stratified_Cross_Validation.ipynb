{
  "nbformat": 4,
  "nbformat_minor": 0,
  "metadata": {
    "colab": {
      "provenance": [],
      "authorship_tag": "ABX9TyPnTPeZxtCpZDgbDf65RGg0",
      "include_colab_link": true
    },
    "kernelspec": {
      "name": "python3",
      "display_name": "Python 3"
    },
    "language_info": {
      "name": "python"
    }
  },
  "cells": [
    {
      "cell_type": "markdown",
      "metadata": {
        "id": "view-in-github",
        "colab_type": "text"
      },
      "source": [
        "<a href=\"https://colab.research.google.com/github/NDsasuke/Autocorrelation-function-Diagnostics-and-prediction/blob/main/Diagnostics%20and%20prediction/Cross-Validation/Stratified_Cross_Validation.ipynb\" target=\"_parent\"><img src=\"https://colab.research.google.com/assets/colab-badge.svg\" alt=\"Open In Colab\"/></a>"
      ]
    },
    {
      "cell_type": "markdown",
      "source": [
        "\n",
        "1. Importing the necessary libraries:\n",
        "\n",
        "This segment imports the required libraries for the code, including `numpy` for numerical operations, `sklearn.model_selection.StratifiedKFold` for Stratified Cross-Validation, `sklearn.linear_model.LogisticRegression` for the logistic regression model, and `sklearn.datasets.load_iris` to load the Iris dataset for demonstration purposes.\n"
      ],
      "metadata": {
        "id": "dWBHDt5a5sxe"
      }
    },
    {
      "cell_type": "code",
      "source": [
        "import numpy as np\n",
        "from sklearn.model_selection import StratifiedKFold\n",
        "from sklearn.linear_model import LogisticRegression\n",
        "from sklearn.datasets import load_iris"
      ],
      "metadata": {
        "id": "D-LaWN5s6OQJ"
      },
      "execution_count": 3,
      "outputs": []
    },
    {
      "cell_type": "markdown",
      "source": [
        "\n",
        "2. Loading the Iris dataset:\n",
        "\n",
        "This segment loads the Iris dataset using `load_iris()` from `sklearn.datasets`. It assigns the input features to `X` and the corresponding target values to `y`.\n"
      ],
      "metadata": {
        "id": "CXrwEnIh58lM"
      }
    },
    {
      "cell_type": "code",
      "source": [
        "# Load the Iris dataset\n",
        "data = load_iris()\n",
        "X = data.data\n",
        "y = data.target\n"
      ],
      "metadata": {
        "id": "xw2eQmMC6Qsj"
      },
      "execution_count": 4,
      "outputs": []
    },
    {
      "cell_type": "markdown",
      "source": [
        "\n",
        "3. Creating a StratifiedKFold object:\n",
        "\n",
        "This segment sets the number of folds `k` to 5 and creates a `StratifiedKFold` object named `skf`. The `shuffle=True` argument ensures that the data is shuffled before splitting, and `random_state=42` sets a specific random seed for reproducibility.\n"
      ],
      "metadata": {
        "id": "gUuJFvY25_-e"
      }
    },
    {
      "cell_type": "code",
      "source": [
        "# Create a StratifiedKFold object with k=5\n",
        "k = 5\n",
        "skf = StratifiedKFold(n_splits=k, shuffle=True, random_state=42)\n"
      ],
      "metadata": {
        "id": "jRYBrkqp6TLo"
      },
      "execution_count": 5,
      "outputs": []
    },
    {
      "cell_type": "markdown",
      "source": [
        "\n",
        "4. Initializing an empty list for scores:\n",
        "\n",
        "This segment creates an empty list named `scores` that will be used to store the evaluation metrics (accuracy scores) for each fold.\n"
      ],
      "metadata": {
        "id": "RTuu8M0M6ESv"
      }
    },
    {
      "cell_type": "code",
      "source": [
        "# Initialize a list to store the evaluation metrics for each fold\n",
        "scores = []\n"
      ],
      "metadata": {
        "id": "9Giu21dE6WHH"
      },
      "execution_count": 6,
      "outputs": []
    },
    {
      "cell_type": "markdown",
      "source": [
        "\n",
        "5. Performing Stratified Cross-Validation:\n",
        "\n",
        "This segment iterates over the training and test indices for each fold using the `split` method of the `StratifiedKFold` object. It splits the data into training and test sets based on these indices. A `LogisticRegression` model is then trained on the training data using `fit`, with `max_iter` set to 1000 to allow for a higher number of iterations. The performance of the model is evaluated on the test data using `score` (accuracy score in this case). The obtained score is appended to the `scores` list.\n"
      ],
      "metadata": {
        "id": "-JcMPNYN6G-2"
      }
    },
    {
      "cell_type": "code",
      "source": [
        "# Perform Stratified Cross-Validation\n",
        "for train_index, test_index in skf.split(X, y):\n",
        "    # Split the data into training and test sets for the current fold\n",
        "    X_train, X_test = X[train_index], X[test_index]\n",
        "    y_train, y_test = y[train_index], y[test_index]\n",
        "\n",
        "    # Train the model on the training data\n",
        "    model = LogisticRegression(max_iter=1000)\n",
        "    model.fit(X_train, y_train)\n",
        "\n",
        "    # Evaluate the model on the test data and store the score\n",
        "    score = model.score(X_test, y_test)\n",
        "    scores.append(score)\n"
      ],
      "metadata": {
        "id": "z5WLC6fy6ZCk"
      },
      "execution_count": 7,
      "outputs": []
    },
    {
      "cell_type": "markdown",
      "source": [
        "\n",
        "6. Printing the evaluation metrics for each fold:\n",
        "\n",
        "This segment iterates over the `scores` list using `enumerate` to retrieve both the fold index and the corresponding score. It then prints the fold index and the accuracy score for each fold.\n"
      ],
      "metadata": {
        "id": "LZ0336ao6JOD"
      }
    },
    {
      "cell_type": "code",
      "source": [
        "# Print the evaluation metrics for each fold\n",
        "for fold, score in enumerate(scores):\n",
        "    print(f\"Fold {fold+1}: Accuracy = {score}\")\n"
      ],
      "metadata": {
        "colab": {
          "base_uri": "https://localhost:8080/"
        },
        "id": "hqUiJ99E6bf2",
        "outputId": "13643320-a127-4e17-8eb0-6330a1155b6e"
      },
      "execution_count": 8,
      "outputs": [
        {
          "output_type": "stream",
          "name": "stdout",
          "text": [
            "Fold 1: Accuracy = 1.0\n",
            "Fold 2: Accuracy = 0.9666666666666667\n",
            "Fold 3: Accuracy = 0.9333333333333333\n",
            "Fold 4: Accuracy = 1.0\n",
            "Fold 5: Accuracy = 0.9333333333333333\n"
          ]
        }
      ]
    },
    {
      "cell_type": "markdown",
      "source": [
        "\n",
        "7. Calculating and printing the average score:\n",
        "\n",
        "This segment calculates the average accuracy score across all folds using `np.mean` on the `scores` list and stores it in the variable `average_score`. It then prints the average score.\n",
        "\n",
        "By increasing the `max_iter` parameter of `LogisticRegression`, the code ensures that the logistic regression model converges successfully during training, addressing the `ConvergenceWarning` and providing reliable evaluation metrics for each fold."
      ],
      "metadata": {
        "id": "R0Lq33dK6LMm"
      }
    },
    {
      "cell_type": "code",
      "execution_count": 9,
      "metadata": {
        "colab": {
          "base_uri": "https://localhost:8080/"
        },
        "id": "Ub8qzCs34leI",
        "outputId": "f4bcef4c-f1eb-4f70-9c1e-cc072a0aca4b"
      },
      "outputs": [
        {
          "output_type": "stream",
          "name": "stdout",
          "text": [
            "\n",
            "Average Accuracy: 0.9666666666666668\n"
          ]
        }
      ],
      "source": [
        "# Calculate and print the average score across all folds\n",
        "average_score = np.mean(scores)\n",
        "print(f\"\\nAverage Accuracy: {average_score}\")\n"
      ]
    }
  ]
}