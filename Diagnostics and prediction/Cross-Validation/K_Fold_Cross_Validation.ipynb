{
  "nbformat": 4,
  "nbformat_minor": 0,
  "metadata": {
    "colab": {
      "provenance": [],
      "authorship_tag": "ABX9TyMSwTSf8OVPDdJQjt4hT3+A",
      "include_colab_link": true
    },
    "kernelspec": {
      "name": "python3",
      "display_name": "Python 3"
    },
    "language_info": {
      "name": "python"
    }
  },
  "cells": [
    {
      "cell_type": "markdown",
      "metadata": {
        "id": "view-in-github",
        "colab_type": "text"
      },
      "source": [
        "<a href=\"https://colab.research.google.com/github/NDsasuke/Autocorrelation-function-Diagnostics-and-prediction/blob/main/Diagnostics%20and%20prediction/Cross-Validation/K_Fold_Cross_Validation.ipynb\" target=\"_parent\"><img src=\"https://colab.research.google.com/assets/colab-badge.svg\" alt=\"Open In Colab\"/></a>"
      ]
    },
    {
      "cell_type": "markdown",
      "source": [
        "1. Importing the necessary libraries:\n",
        "\n",
        "This segment imports the required libraries for the code, including `numpy` for numerical operations, `sklearn.model_selection.KFold` for K-Fold Cross-Validation, and `sklearn.linear_model.LinearRegression` for the linear regression model.\n"
      ],
      "metadata": {
        "id": "WqYGaGsc2vEW"
      }
    },
    {
      "cell_type": "code",
      "source": [
        "import numpy as np\n",
        "from sklearn.model_selection import KFold\n",
        "from sklearn.linear_model import LinearRegression"
      ],
      "metadata": {
        "id": "ZJMhIH4i3SJW"
      },
      "execution_count": 2,
      "outputs": []
    },
    {
      "cell_type": "markdown",
      "source": [
        "\n",
        "2. Generating example dataset:\n",
        "\n",
        "This segment creates an example dataset `X` and target variable `y` for demonstration purposes. `X` is a 2-dimensional array representing the input features, and `y` is a 1-dimensional array representing the corresponding target values.\n"
      ],
      "metadata": {
        "id": "7Ew_MhFl3AK3"
      }
    },
    {
      "cell_type": "code",
      "source": [
        "# Generate example dataset\n",
        "X = np.array([[1, 1], [1, 2], [2, 2], [2, 3], [3, 3], [3, 4], [4, 4], [4, 5]])\n",
        "y = np.array([2, 3, 3, 4, 4, 5, 5, 6])"
      ],
      "metadata": {
        "id": "_OqKtOwi3U5X"
      },
      "execution_count": 3,
      "outputs": []
    },
    {
      "cell_type": "markdown",
      "source": [
        "\n",
        "3. Creating a KFold object:\n",
        "\n",
        "This segment sets the number of folds `k` to 5 and creates a `KFold` object named `kf`. The `shuffle=True` argument ensures that the data is shuffled before splitting, and `random_state=42` sets a specific random seed for reproducibility.\n"
      ],
      "metadata": {
        "id": "heW-yDV23C_6"
      }
    },
    {
      "cell_type": "code",
      "source": [
        "# Create a KFold object with k=5\n",
        "k = 5\n",
        "kf = KFold(n_splits=k, shuffle=True, random_state=42)"
      ],
      "metadata": {
        "id": "Kt8kBSRn3Xd6"
      },
      "execution_count": 4,
      "outputs": []
    },
    {
      "cell_type": "markdown",
      "source": [
        "\n",
        "4. Initializing an empty list for scores:\n",
        "\n",
        "This segment creates an empty list named `scores` that will be used to store the evaluation metrics (R^2 scores) for each fold.\n"
      ],
      "metadata": {
        "id": "yoftL01F3GC-"
      }
    },
    {
      "cell_type": "code",
      "source": [
        "\n",
        "# Initialize a list to store the evaluation metrics for each fold\n",
        "scores = []"
      ],
      "metadata": {
        "id": "dkNh-mOo3Ztq"
      },
      "execution_count": 5,
      "outputs": []
    },
    {
      "cell_type": "markdown",
      "source": [
        "\n",
        "5. Performing K-Fold Cross-Validation:\n",
        "\n",
        "This segment iterates over the training and test indices for each fold using the `split` method of the `KFold` object. It splits the data into training and test sets based on these indices. A `LinearRegression` model is then trained on the training data using `fit`, and its performance is evaluated on the test data using `score` (R^2 score in this case). The obtained score is appended to the `scores` list.\n"
      ],
      "metadata": {
        "id": "wfSbCKu13IwW"
      }
    },
    {
      "cell_type": "code",
      "source": [
        "# Perform K-Fold Cross-Validation\n",
        "for train_index, test_index in kf.split(X):\n",
        "    # Split the data into training and test sets for the current fold\n",
        "    X_train, X_test = X[train_index], X[test_index]\n",
        "    y_train, y_test = y[train_index], y[test_index]\n",
        "\n",
        "    # Train the model on the training data\n",
        "    model = LinearRegression()\n",
        "    model.fit(X_train, y_train)\n",
        "\n",
        "    # Evaluate the model on the test data and store the score\n",
        "    score = model.score(X_test, y_test)\n",
        "    scores.append(score)"
      ],
      "metadata": {
        "colab": {
          "base_uri": "https://localhost:8080/"
        },
        "id": "yKunhCOz3dNm",
        "outputId": "37ce1117-e96f-4792-a847-64872292e250"
      },
      "execution_count": 6,
      "outputs": [
        {
          "output_type": "stream",
          "name": "stderr",
          "text": [
            "/usr/local/lib/python3.10/dist-packages/sklearn/metrics/_regression.py:918: UndefinedMetricWarning: R^2 score is not well-defined with less than two samples.\n",
            "  warnings.warn(msg, UndefinedMetricWarning)\n",
            "/usr/local/lib/python3.10/dist-packages/sklearn/metrics/_regression.py:918: UndefinedMetricWarning: R^2 score is not well-defined with less than two samples.\n",
            "  warnings.warn(msg, UndefinedMetricWarning)\n"
          ]
        }
      ]
    },
    {
      "cell_type": "markdown",
      "source": [
        "\n",
        "6. Printing the evaluation metrics for each fold:\n",
        "\n",
        "This segment iterates over the `scores` list using `enumerate` to retrieve both the fold index and the corresponding score. It then prints the fold index and the R^2 score for each fold.\n"
      ],
      "metadata": {
        "id": "CdXMw0VU3KzT"
      }
    },
    {
      "cell_type": "code",
      "source": [
        "# Print the evaluation metrics for each fold\n",
        "for fold, score in enumerate(scores):\n",
        "    print(f\"Fold {fold+1}: R^2 Score = {score}\")"
      ],
      "metadata": {
        "colab": {
          "base_uri": "https://localhost:8080/"
        },
        "id": "qXju1g3g3f-q",
        "outputId": "e6b94c2f-c7eb-415a-c119-8c4835cd0c7b"
      },
      "execution_count": 7,
      "outputs": [
        {
          "output_type": "stream",
          "name": "stdout",
          "text": [
            "Fold 1: R^2 Score = 1.0\n",
            "Fold 2: R^2 Score = 1.0\n",
            "Fold 3: R^2 Score = 1.0\n",
            "Fold 4: R^2 Score = nan\n",
            "Fold 5: R^2 Score = nan\n"
          ]
        }
      ]
    },
    {
      "cell_type": "markdown",
      "source": [
        "\n",
        "7. Calculating and printing the average score:\n",
        "\n",
        "This segment calculates the average R^2 score across all folds using `np.mean` on the `scores` list and stores it in the variable `average_score`. It then prints the average score.\n",
        "\n",
        "These code segments together implement K-Fold Cross-Validation using scikit-learn library and provide a detailed explanation of the process and its advantages."
      ],
      "metadata": {
        "id": "8VloXuR33Mjv"
      }
    },
    {
      "cell_type": "code",
      "execution_count": 8,
      "metadata": {
        "colab": {
          "base_uri": "https://localhost:8080/"
        },
        "id": "kcgmJrja1yow",
        "outputId": "e473678a-ce1b-47fe-b836-a03aefc06299"
      },
      "outputs": [
        {
          "output_type": "stream",
          "name": "stdout",
          "text": [
            "\n",
            "Average R^2 Score: nan\n"
          ]
        }
      ],
      "source": [
        "# Calculate and print the average score across all folds\n",
        "average_score = np.mean(scores)\n",
        "print(f\"\\nAverage R^2 Score: {average_score}\")\n"
      ]
    }
  ]
}