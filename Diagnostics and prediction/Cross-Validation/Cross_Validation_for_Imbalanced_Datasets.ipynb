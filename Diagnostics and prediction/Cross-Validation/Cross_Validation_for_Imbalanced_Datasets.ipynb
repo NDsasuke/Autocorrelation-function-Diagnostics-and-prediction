{
  "nbformat": 4,
  "nbformat_minor": 0,
  "metadata": {
    "colab": {
      "provenance": [],
      "gpuType": "T4",
      "authorship_tag": "ABX9TyMI9VXGWIAgoYVuDD+3xYug",
      "include_colab_link": true
    },
    "kernelspec": {
      "name": "python3",
      "display_name": "Python 3"
    },
    "language_info": {
      "name": "python"
    },
    "accelerator": "GPU"
  },
  "cells": [
    {
      "cell_type": "markdown",
      "metadata": {
        "id": "view-in-github",
        "colab_type": "text"
      },
      "source": [
        "<a href=\"https://colab.research.google.com/github/NDsasuke/Autocorrelation-function-Diagnostics-and-prediction/blob/main/Diagnostics%20and%20prediction/Cross-Validation/Cross_Validation_for_Imbalanced_Datasets.ipynb\" target=\"_parent\"><img src=\"https://colab.research.google.com/assets/colab-badge.svg\" alt=\"Open In Colab\"/></a>"
      ]
    },
    {
      "cell_type": "markdown",
      "source": [
        "\n",
        "1. Importing necessary libraries:\n",
        "   - `sklearn.datasets.load_breast_cancer`: This library is used to load the Breast Cancer Wisconsin (Diagnostic) dataset.\n",
        "   - `sklearn.model_selection.StratifiedKFold`: This library is used to perform stratified k-fold cross-validation.\n",
        "   - `sklearn.metrics.accuracy_score`, `sklearn.metrics.precision_score`, `sklearn.metrics.recall_score`, `sklearn.metrics.f1_score`: These libraries are used to calculate evaluation metrics for the classification model.\n",
        "   - `sklearn.linear_model.LogisticRegression`: This library is used to create a logistic regression classifier.\n"
      ],
      "metadata": {
        "id": "m6x6vZBVE_kU"
      }
    },
    {
      "cell_type": "code",
      "source": [
        "from sklearn.datasets import load_breast_cancer\n",
        "from sklearn.model_selection import StratifiedKFold\n",
        "from sklearn.metrics import accuracy_score, precision_score, recall_score, f1_score\n",
        "from sklearn.linear_model import LogisticRegression"
      ],
      "metadata": {
        "id": "KuujDYuGFVKZ"
      },
      "execution_count": 6,
      "outputs": []
    },
    {
      "cell_type": "markdown",
      "source": [
        "\n",
        "2. Load the Breast Cancer Wisconsin (Diagnostic) dataset:\n",
        "   - The dataset is loaded using `load_breast_cancer` function from `sklearn.datasets`.\n",
        "   - The features of the dataset are stored in `X`.\n",
        "   - The target labels of the dataset are stored in `y`.\n"
      ],
      "metadata": {
        "id": "QyhGGyVAFEgz"
      }
    },
    {
      "cell_type": "code",
      "source": [
        "# Load the Breast Cancer Wisconsin (Diagnostic) Dataset\n",
        "data = load_breast_cancer()\n",
        "X = data.data\n",
        "y = data.target"
      ],
      "metadata": {
        "id": "X9A4dzsTFXt7"
      },
      "execution_count": 7,
      "outputs": []
    },
    {
      "cell_type": "markdown",
      "source": [
        "\n",
        "3. Set the number of folds for cross-validation:\n",
        "   - The variable `num_folds` is set to the desired number of folds for cross-validation.\n"
      ],
      "metadata": {
        "id": "5C0WFKe2FG_f"
      }
    },
    {
      "cell_type": "code",
      "source": [
        "# Set the number of folds for cross-validation\n",
        "num_folds = 5\n"
      ],
      "metadata": {
        "id": "isJYy5fIFaQK"
      },
      "execution_count": 8,
      "outputs": []
    },
    {
      "cell_type": "markdown",
      "source": [
        "\n",
        "4. Perform Stratified K-Fold Cross-Validation:\n",
        "   - The `StratifiedKFold` function is used to create an instance of stratified k-fold cross-validator.\n",
        "   - The dataset is split into training and testing sets using `split` method of `StratifiedKFold`.\n",
        "   - The classifier is trained and evaluated for each fold of cross-validation.\n"
      ],
      "metadata": {
        "id": "sV2PdQXnFJ1O"
      }
    },
    {
      "cell_type": "code",
      "source": [
        "# Perform Stratified K-Fold Cross-Validation\n",
        "skf = StratifiedKFold(n_splits=num_folds, shuffle=True, random_state=42)\n",
        "accuracy_scores = []\n",
        "precision_scores = []\n",
        "recall_scores = []\n",
        "f1_scores = []\n"
      ],
      "metadata": {
        "id": "Q-SIOPVQFc2R"
      },
      "execution_count": 9,
      "outputs": []
    },
    {
      "cell_type": "markdown",
      "source": [
        "\n",
        "5. Classification on the imbalanced dataset:\n",
        "   - Logistic regression classifier is created using `LogisticRegression` with `max_iter` set to 10000 and `solver` set to 'saga'.\n",
        "   - The classifier is fitted on the training data using `fit` method.\n",
        "   - The classifier predicts the labels for the test data using `predict` method.\n"
      ],
      "metadata": {
        "id": "ys7cSd2KFMcI"
      }
    },
    {
      "cell_type": "markdown",
      "source": [
        "\n",
        "6. Calculate evaluation metrics:\n",
        "   - The evaluation metrics such as accuracy, precision, recall, and F1-score are calculated using the predicted labels and true labels of the test data.\n"
      ],
      "metadata": {
        "id": "r9Y3t_IcFOFW"
      }
    },
    {
      "cell_type": "markdown",
      "source": [
        "\n",
        "7. Store the evaluation metrics for each fold:\n",
        "   - The evaluation metrics for each fold are stored in separate lists.\n"
      ],
      "metadata": {
        "id": "s3iSZp_4FPnO"
      }
    },
    {
      "cell_type": "code",
      "source": [
        "\n",
        "for train_index, test_index in skf.split(X, y):\n",
        "    X_train, X_test = X[train_index], X[test_index]\n",
        "    y_train, y_test = y[train_index], y[test_index]\n",
        "\n",
        "    # Perform classification on the imbalanced dataset\n",
        "    classifier = LogisticRegression(max_iter=10000, solver='saga')  # Increase the max_iter value and use 'saga' solver\n",
        "    classifier.fit(X_train, y_train)\n",
        "    y_pred = classifier.predict(X_test)\n",
        "\n",
        "    # Calculate evaluation metrics\n",
        "    accuracy = accuracy_score(y_test, y_pred)\n",
        "    precision = precision_score(y_test, y_pred)\n",
        "    recall = recall_score(y_test, y_pred)\n",
        "    f1 = f1_score(y_test, y_pred)\n",
        "\n",
        "    # Store the evaluation metrics for each fold\n",
        "    accuracy_scores.append(accuracy)\n",
        "    precision_scores.append(precision)\n",
        "    recall_scores.append(recall)\n",
        "    f1_scores.append(f1)"
      ],
      "metadata": {
        "id": "fAfTlM11Fgt4"
      },
      "execution_count": 10,
      "outputs": []
    },
    {
      "cell_type": "markdown",
      "source": [
        "\n",
        "8. Print the average evaluation metrics:\n",
        "   - The average values of accuracy, precision, recall, and F1-score are calculated by summing the values and dividing by the number of folds.\n",
        "   - The average evaluation metrics are printed to the console.\n"
      ],
      "metadata": {
        "id": "t8JYsZg4FRa1"
      }
    },
    {
      "cell_type": "code",
      "execution_count": 11,
      "metadata": {
        "colab": {
          "base_uri": "https://localhost:8080/"
        },
        "id": "W90iSBBvBguk",
        "outputId": "59b0601d-6e5a-4763-a9f7-a11bbf9e5282"
      },
      "outputs": [
        {
          "output_type": "stream",
          "name": "stdout",
          "text": [
            "Average Accuracy: 0.9227138643067846\n",
            "Average Precision: 0.9176437976437976\n",
            "Average Recall: 0.9636150234741784\n",
            "Average F1-score: 0.9399254992343857\n"
          ]
        }
      ],
      "source": [
        "# Print the average evaluation metrics\n",
        "print(\"Average Accuracy:\", sum(accuracy_scores)/len(accuracy_scores))\n",
        "print(\"Average Precision:\", sum(precision_scores)/len(precision_scores))\n",
        "print(\"Average Recall:\", sum(recall_scores)/len(recall_scores))\n",
        "print(\"Average F1-score:\", sum(f1_scores)/len(f1_scores))\n"
      ]
    }
  ]
}